{
 "cells": [
  {
   "cell_type": "markdown",
   "id": "a6b448bd-5aca-4b70-a1d7-eccb95b6f24c",
   "metadata": {},
   "source": [
    "# 28 - How to Read Data from SQLite Database"
   ]
  },
  {
   "cell_type": "code",
   "execution_count": 1,
   "id": "a1bdda40-24df-4ddf-84a4-47acbc6908c9",
   "metadata": {},
   "outputs": [],
   "source": [
    "import pandas as pd\n",
    "import numpy as np\n",
    "import seaborn as sns\n",
    "import matplotlib.pyplot as plt\n",
    "import sqlite3"
   ]
  },
  {
   "cell_type": "code",
   "execution_count": 2,
   "id": "af592a7b-d008-4cfe-aa7d-5ca157ea5121",
   "metadata": {},
   "outputs": [
    {
     "data": {
      "text/plain": [
       "sqlite3.Connection"
      ]
     },
     "execution_count": 2,
     "metadata": {},
     "output_type": "execute_result"
    }
   ],
   "source": [
    "con = sqlite3.connect(\"/home/yeat/Documents/cursos/Udemy - Data Analysis Real world use-cases- Hands on Python 2024-1/5 - Project 3 Amazon Customers Data Analysis/Project 3.. Amazon Customers Data Analysis/database.sqlite\")\n",
    "type(con)"
   ]
  },
  {
   "cell_type": "code",
   "execution_count": 3,
   "id": "19eab0e8-f9b5-47e2-9326-597164682775",
   "metadata": {},
   "outputs": [
    {
     "data": {
      "text/plain": [
       "(568454, 10)"
      ]
     },
     "execution_count": 3,
     "metadata": {},
     "output_type": "execute_result"
    }
   ],
   "source": [
    "df = pd.read_sql_query(\"SELECT * FROM REVIEWS\",con)\n",
    "df.shape"
   ]
  },
  {
   "cell_type": "markdown",
   "id": "f9d3872f-0bb8-479a-a000-e3c9d696da24",
   "metadata": {},
   "source": [
    "# 29 - Data Preparation"
   ]
  },
  {
   "cell_type": "code",
   "execution_count": 4,
   "id": "8adaa8c3-05d4-4973-be18-d76b052fdd27",
   "metadata": {},
   "outputs": [
    {
     "data": {
      "text/plain": [
       "Index(['Id', 'ProductId', 'UserId', 'ProfileName', 'HelpfulnessNumerator',\n",
       "       'HelpfulnessDenominator', 'Score', 'Time', 'Summary', 'Text'],\n",
       "      dtype='object')"
      ]
     },
     "execution_count": 4,
     "metadata": {},
     "output_type": "execute_result"
    }
   ],
   "source": [
    "df.columns"
   ]
  },
  {
   "cell_type": "code",
   "execution_count": 5,
   "id": "d7cf0a8a-aa2f-43f6-babf-d02d9fbfc514",
   "metadata": {},
   "outputs": [
    {
     "data": {
      "text/html": [
       "<div>\n",
       "<style scoped>\n",
       "    .dataframe tbody tr th:only-of-type {\n",
       "        vertical-align: middle;\n",
       "    }\n",
       "\n",
       "    .dataframe tbody tr th {\n",
       "        vertical-align: top;\n",
       "    }\n",
       "\n",
       "    .dataframe thead th {\n",
       "        text-align: right;\n",
       "    }\n",
       "</style>\n",
       "<table border=\"1\" class=\"dataframe\">\n",
       "  <thead>\n",
       "    <tr style=\"text-align: right;\">\n",
       "      <th></th>\n",
       "      <th>Id</th>\n",
       "      <th>ProductId</th>\n",
       "      <th>UserId</th>\n",
       "      <th>ProfileName</th>\n",
       "      <th>HelpfulnessNumerator</th>\n",
       "      <th>HelpfulnessDenominator</th>\n",
       "      <th>Score</th>\n",
       "      <th>Time</th>\n",
       "      <th>Summary</th>\n",
       "      <th>Text</th>\n",
       "    </tr>\n",
       "  </thead>\n",
       "  <tbody>\n",
       "    <tr>\n",
       "      <th>0</th>\n",
       "      <td>1</td>\n",
       "      <td>B001E4KFG0</td>\n",
       "      <td>A3SGXH7AUHU8GW</td>\n",
       "      <td>delmartian</td>\n",
       "      <td>1</td>\n",
       "      <td>1</td>\n",
       "      <td>5</td>\n",
       "      <td>1303862400</td>\n",
       "      <td>Good Quality Dog Food</td>\n",
       "      <td>I have bought several of the Vitality canned d...</td>\n",
       "    </tr>\n",
       "    <tr>\n",
       "      <th>1</th>\n",
       "      <td>2</td>\n",
       "      <td>B00813GRG4</td>\n",
       "      <td>A1D87F6ZCVE5NK</td>\n",
       "      <td>dll pa</td>\n",
       "      <td>0</td>\n",
       "      <td>0</td>\n",
       "      <td>1</td>\n",
       "      <td>1346976000</td>\n",
       "      <td>Not as Advertised</td>\n",
       "      <td>Product arrived labeled as Jumbo Salted Peanut...</td>\n",
       "    </tr>\n",
       "    <tr>\n",
       "      <th>2</th>\n",
       "      <td>3</td>\n",
       "      <td>B000LQOCH0</td>\n",
       "      <td>ABXLMWJIXXAIN</td>\n",
       "      <td>Natalia Corres \"Natalia Corres\"</td>\n",
       "      <td>1</td>\n",
       "      <td>1</td>\n",
       "      <td>4</td>\n",
       "      <td>1219017600</td>\n",
       "      <td>\"Delight\" says it all</td>\n",
       "      <td>This is a confection that has been around a fe...</td>\n",
       "    </tr>\n",
       "  </tbody>\n",
       "</table>\n",
       "</div>"
      ],
      "text/plain": [
       "   Id   ProductId          UserId                      ProfileName  \\\n",
       "0   1  B001E4KFG0  A3SGXH7AUHU8GW                       delmartian   \n",
       "1   2  B00813GRG4  A1D87F6ZCVE5NK                           dll pa   \n",
       "2   3  B000LQOCH0   ABXLMWJIXXAIN  Natalia Corres \"Natalia Corres\"   \n",
       "\n",
       "   HelpfulnessNumerator  HelpfulnessDenominator  Score        Time  \\\n",
       "0                     1                       1      5  1303862400   \n",
       "1                     0                       0      1  1346976000   \n",
       "2                     1                       1      4  1219017600   \n",
       "\n",
       "                 Summary                                               Text  \n",
       "0  Good Quality Dog Food  I have bought several of the Vitality canned d...  \n",
       "1      Not as Advertised  Product arrived labeled as Jumbo Salted Peanut...  \n",
       "2  \"Delight\" says it all  This is a confection that has been around a fe...  "
      ]
     },
     "execution_count": 5,
     "metadata": {},
     "output_type": "execute_result"
    }
   ],
   "source": [
    "df.head(3)"
   ]
  },
  {
   "cell_type": "code",
   "execution_count": 6,
   "id": "e976fab7-7e93-4e81-85eb-8ea03b0d0c73",
   "metadata": {},
   "outputs": [],
   "source": [
    "df_valid = df[df['HelpfulnessNumerator'] <= df['HelpfulnessDenominator']]"
   ]
  },
  {
   "cell_type": "code",
   "execution_count": 7,
   "id": "0ead2cb3-a39b-4bd8-acc7-c1f33bba1eed",
   "metadata": {},
   "outputs": [
    {
     "data": {
      "text/plain": [
       "(568452, 10)"
      ]
     },
     "execution_count": 7,
     "metadata": {},
     "output_type": "execute_result"
    }
   ],
   "source": [
    "df_valid.shape"
   ]
  },
  {
   "cell_type": "code",
   "execution_count": 8,
   "id": "bd00d466-16c6-4e2e-a5a3-8a493a7e01fc",
   "metadata": {},
   "outputs": [
    {
     "data": {
      "text/plain": [
       "Index(['Id', 'ProductId', 'UserId', 'ProfileName', 'HelpfulnessNumerator',\n",
       "       'HelpfulnessDenominator', 'Score', 'Time', 'Summary', 'Text'],\n",
       "      dtype='object')"
      ]
     },
     "execution_count": 8,
     "metadata": {},
     "output_type": "execute_result"
    }
   ],
   "source": [
    "df_valid.columns"
   ]
  },
  {
   "cell_type": "code",
   "execution_count": 9,
   "id": "d5859fba-7537-4700-9b6a-9bd45653769b",
   "metadata": {},
   "outputs": [
    {
     "data": {
      "text/html": [
       "<div>\n",
       "<style scoped>\n",
       "    .dataframe tbody tr th:only-of-type {\n",
       "        vertical-align: middle;\n",
       "    }\n",
       "\n",
       "    .dataframe tbody tr th {\n",
       "        vertical-align: top;\n",
       "    }\n",
       "\n",
       "    .dataframe thead th {\n",
       "        text-align: right;\n",
       "    }\n",
       "</style>\n",
       "<table border=\"1\" class=\"dataframe\">\n",
       "  <thead>\n",
       "    <tr style=\"text-align: right;\">\n",
       "      <th></th>\n",
       "      <th>Id</th>\n",
       "      <th>ProductId</th>\n",
       "      <th>UserId</th>\n",
       "      <th>ProfileName</th>\n",
       "      <th>HelpfulnessNumerator</th>\n",
       "      <th>HelpfulnessDenominator</th>\n",
       "      <th>Score</th>\n",
       "      <th>Time</th>\n",
       "      <th>Summary</th>\n",
       "      <th>Text</th>\n",
       "    </tr>\n",
       "  </thead>\n",
       "  <tbody>\n",
       "    <tr>\n",
       "      <th>29</th>\n",
       "      <td>30</td>\n",
       "      <td>B0001PB9FY</td>\n",
       "      <td>A3HDKO7OW0QNK4</td>\n",
       "      <td>Canadian Fan</td>\n",
       "      <td>1</td>\n",
       "      <td>1</td>\n",
       "      <td>5</td>\n",
       "      <td>1107820800</td>\n",
       "      <td>The Best Hot Sauce in the World</td>\n",
       "      <td>I don't know if it's the cactus or the tequila...</td>\n",
       "    </tr>\n",
       "    <tr>\n",
       "      <th>574</th>\n",
       "      <td>575</td>\n",
       "      <td>B000G6RYNE</td>\n",
       "      <td>A3PJZ8TU8FDQ1K</td>\n",
       "      <td>Jared Castle</td>\n",
       "      <td>2</td>\n",
       "      <td>2</td>\n",
       "      <td>5</td>\n",
       "      <td>1231718400</td>\n",
       "      <td>One bite and you'll become a \"chippoisseur\"</td>\n",
       "      <td>I'm addicted to salty and tangy flavors, so wh...</td>\n",
       "    </tr>\n",
       "    <tr>\n",
       "      <th>1973</th>\n",
       "      <td>1974</td>\n",
       "      <td>B0017165OG</td>\n",
       "      <td>A2EPNS38TTLZYN</td>\n",
       "      <td>tedebear</td>\n",
       "      <td>0</td>\n",
       "      <td>0</td>\n",
       "      <td>3</td>\n",
       "      <td>1312675200</td>\n",
       "      <td>Pok Chops</td>\n",
       "      <td>The pork chops from Omaha Steaks were very tas...</td>\n",
       "    </tr>\n",
       "    <tr>\n",
       "      <th>2309</th>\n",
       "      <td>2310</td>\n",
       "      <td>B0001VWE0M</td>\n",
       "      <td>AQM74O8Z4FMS0</td>\n",
       "      <td>Sunshine</td>\n",
       "      <td>0</td>\n",
       "      <td>0</td>\n",
       "      <td>2</td>\n",
       "      <td>1127606400</td>\n",
       "      <td>Below standard</td>\n",
       "      <td>Too much of the white pith on this orange peel...</td>\n",
       "    </tr>\n",
       "    <tr>\n",
       "      <th>2323</th>\n",
       "      <td>2324</td>\n",
       "      <td>B0001VWE0C</td>\n",
       "      <td>AQM74O8Z4FMS0</td>\n",
       "      <td>Sunshine</td>\n",
       "      <td>0</td>\n",
       "      <td>0</td>\n",
       "      <td>2</td>\n",
       "      <td>1127606400</td>\n",
       "      <td>Below standard</td>\n",
       "      <td>Too much of the white pith on this orange peel...</td>\n",
       "    </tr>\n",
       "    <tr>\n",
       "      <th>...</th>\n",
       "      <td>...</td>\n",
       "      <td>...</td>\n",
       "      <td>...</td>\n",
       "      <td>...</td>\n",
       "      <td>...</td>\n",
       "      <td>...</td>\n",
       "      <td>...</td>\n",
       "      <td>...</td>\n",
       "      <td>...</td>\n",
       "      <td>...</td>\n",
       "    </tr>\n",
       "    <tr>\n",
       "      <th>568409</th>\n",
       "      <td>568410</td>\n",
       "      <td>B0018CLWM4</td>\n",
       "      <td>A2PE0AGWV6OPL7</td>\n",
       "      <td>Dark Water Mermaid</td>\n",
       "      <td>3</td>\n",
       "      <td>3</td>\n",
       "      <td>5</td>\n",
       "      <td>1309651200</td>\n",
       "      <td>Quality &amp; affordable food</td>\n",
       "      <td>I was very pleased with the ingredient quality...</td>\n",
       "    </tr>\n",
       "    <tr>\n",
       "      <th>568410</th>\n",
       "      <td>568411</td>\n",
       "      <td>B0018CLWM4</td>\n",
       "      <td>A88HLWDCU57WG</td>\n",
       "      <td>R28</td>\n",
       "      <td>2</td>\n",
       "      <td>2</td>\n",
       "      <td>5</td>\n",
       "      <td>1332979200</td>\n",
       "      <td>litter box</td>\n",
       "      <td>My main reason for the five star review has to...</td>\n",
       "    </tr>\n",
       "    <tr>\n",
       "      <th>568411</th>\n",
       "      <td>568412</td>\n",
       "      <td>B0018CLWM4</td>\n",
       "      <td>AUX1HSY8FX55S</td>\n",
       "      <td>DAW</td>\n",
       "      <td>1</td>\n",
       "      <td>1</td>\n",
       "      <td>5</td>\n",
       "      <td>1319500800</td>\n",
       "      <td>Happy Camper</td>\n",
       "      <td>I bought this to try on two registered Maine C...</td>\n",
       "    </tr>\n",
       "    <tr>\n",
       "      <th>568412</th>\n",
       "      <td>568413</td>\n",
       "      <td>B0018CLWM4</td>\n",
       "      <td>AVZ2OZ479Q9E8</td>\n",
       "      <td>Ai Ling Chow</td>\n",
       "      <td>0</td>\n",
       "      <td>0</td>\n",
       "      <td>5</td>\n",
       "      <td>1336435200</td>\n",
       "      <td>Two Siberians like it!</td>\n",
       "      <td>When we brought home two 3-month-old purebred ...</td>\n",
       "    </tr>\n",
       "    <tr>\n",
       "      <th>568413</th>\n",
       "      <td>568414</td>\n",
       "      <td>B0018CLWM4</td>\n",
       "      <td>AI3Y26HLPYW4L</td>\n",
       "      <td>kimosabe</td>\n",
       "      <td>1</td>\n",
       "      <td>2</td>\n",
       "      <td>2</td>\n",
       "      <td>1330041600</td>\n",
       "      <td>premium edge cat food</td>\n",
       "      <td>My cats don't like it. what else can I say to ...</td>\n",
       "    </tr>\n",
       "  </tbody>\n",
       "</table>\n",
       "<p>174521 rows × 10 columns</p>\n",
       "</div>"
      ],
      "text/plain": [
       "            Id   ProductId          UserId         ProfileName  \\\n",
       "29          30  B0001PB9FY  A3HDKO7OW0QNK4        Canadian Fan   \n",
       "574        575  B000G6RYNE  A3PJZ8TU8FDQ1K        Jared Castle   \n",
       "1973      1974  B0017165OG  A2EPNS38TTLZYN            tedebear   \n",
       "2309      2310  B0001VWE0M   AQM74O8Z4FMS0            Sunshine   \n",
       "2323      2324  B0001VWE0C   AQM74O8Z4FMS0            Sunshine   \n",
       "...        ...         ...             ...                 ...   \n",
       "568409  568410  B0018CLWM4  A2PE0AGWV6OPL7  Dark Water Mermaid   \n",
       "568410  568411  B0018CLWM4   A88HLWDCU57WG                 R28   \n",
       "568411  568412  B0018CLWM4   AUX1HSY8FX55S                 DAW   \n",
       "568412  568413  B0018CLWM4   AVZ2OZ479Q9E8        Ai Ling Chow   \n",
       "568413  568414  B0018CLWM4   AI3Y26HLPYW4L            kimosabe   \n",
       "\n",
       "        HelpfulnessNumerator  HelpfulnessDenominator  Score        Time  \\\n",
       "29                         1                       1      5  1107820800   \n",
       "574                        2                       2      5  1231718400   \n",
       "1973                       0                       0      3  1312675200   \n",
       "2309                       0                       0      2  1127606400   \n",
       "2323                       0                       0      2  1127606400   \n",
       "...                      ...                     ...    ...         ...   \n",
       "568409                     3                       3      5  1309651200   \n",
       "568410                     2                       2      5  1332979200   \n",
       "568411                     1                       1      5  1319500800   \n",
       "568412                     0                       0      5  1336435200   \n",
       "568413                     1                       2      2  1330041600   \n",
       "\n",
       "                                            Summary  \\\n",
       "29                  The Best Hot Sauce in the World   \n",
       "574     One bite and you'll become a \"chippoisseur\"   \n",
       "1973                                      Pok Chops   \n",
       "2309                                 Below standard   \n",
       "2323                                 Below standard   \n",
       "...                                             ...   \n",
       "568409                    Quality & affordable food   \n",
       "568410                                   litter box   \n",
       "568411                                 Happy Camper   \n",
       "568412                       Two Siberians like it!   \n",
       "568413                        premium edge cat food   \n",
       "\n",
       "                                                     Text  \n",
       "29      I don't know if it's the cactus or the tequila...  \n",
       "574     I'm addicted to salty and tangy flavors, so wh...  \n",
       "1973    The pork chops from Omaha Steaks were very tas...  \n",
       "2309    Too much of the white pith on this orange peel...  \n",
       "2323    Too much of the white pith on this orange peel...  \n",
       "...                                                   ...  \n",
       "568409  I was very pleased with the ingredient quality...  \n",
       "568410  My main reason for the five star review has to...  \n",
       "568411  I bought this to try on two registered Maine C...  \n",
       "568412  When we brought home two 3-month-old purebred ...  \n",
       "568413  My cats don't like it. what else can I say to ...  \n",
       "\n",
       "[174521 rows x 10 columns]"
      ]
     },
     "execution_count": 9,
     "metadata": {},
     "output_type": "execute_result"
    }
   ],
   "source": [
    "# ['UserId', 'ProfileName','Time', 'Text']\n",
    "df_valid[df_valid.duplicated(['UserId', 'ProfileName','Time', 'Text'])]"
   ]
  },
  {
   "cell_type": "code",
   "execution_count": 10,
   "id": "845a7fd6-d5ed-4e88-a989-3567c8d0b769",
   "metadata": {},
   "outputs": [
    {
     "data": {
      "text/plain": [
       "(393931, 10)"
      ]
     },
     "execution_count": 10,
     "metadata": {},
     "output_type": "execute_result"
    }
   ],
   "source": [
    "data = df_valid.drop_duplicates(subset=['UserId', 'ProfileName','Time', 'Text'])\n",
    "data.shape"
   ]
  },
  {
   "cell_type": "code",
   "execution_count": 11,
   "id": "63817b28-040b-439f-b9dd-777e4c0a7773",
   "metadata": {},
   "outputs": [
    {
     "data": {
      "text/plain": [
       "Id                         int64\n",
       "ProductId                 object\n",
       "UserId                    object\n",
       "ProfileName               object\n",
       "HelpfulnessNumerator       int64\n",
       "HelpfulnessDenominator     int64\n",
       "Score                      int64\n",
       "Time                       int64\n",
       "Summary                   object\n",
       "Text                      object\n",
       "dtype: object"
      ]
     },
     "execution_count": 11,
     "metadata": {},
     "output_type": "execute_result"
    }
   ],
   "source": [
    "data.dtypes"
   ]
  },
  {
   "cell_type": "code",
   "execution_count": 12,
   "id": "755ba176-7151-4dc9-a6fd-75c1b2abfe36",
   "metadata": {},
   "outputs": [
    {
     "data": {
      "text/plain": [
       "0         1303862400\n",
       "1         1346976000\n",
       "2         1219017600\n",
       "3         1307923200\n",
       "4         1350777600\n",
       "             ...    \n",
       "568449    1299628800\n",
       "568450    1331251200\n",
       "568451    1329782400\n",
       "568452    1331596800\n",
       "568453    1338422400\n",
       "Name: Time, Length: 393931, dtype: int64"
      ]
     },
     "execution_count": 12,
     "metadata": {},
     "output_type": "execute_result"
    }
   ],
   "source": [
    "data['Time']"
   ]
  },
  {
   "cell_type": "code",
   "execution_count": 14,
   "id": "032018c3-77c2-434b-9f12-4bb25b3d7fa4",
   "metadata": {},
   "outputs": [
    {
     "data": {
      "text/plain": [
       "0        2011-04-27\n",
       "1        2012-09-07\n",
       "2        2008-08-18\n",
       "3        2011-06-13\n",
       "4        2012-10-21\n",
       "            ...    \n",
       "568449   2011-03-09\n",
       "568450   2012-03-09\n",
       "568451   2012-02-21\n",
       "568452   2012-03-13\n",
       "568453   2012-05-31\n",
       "Name: Time, Length: 393931, dtype: datetime64[ns]"
      ]
     },
     "execution_count": 14,
     "metadata": {},
     "output_type": "execute_result"
    }
   ],
   "source": [
    "pd.to_datetime(data['Time'], unit='s')"
   ]
  },
  {
   "cell_type": "code",
   "execution_count": 18,
   "id": "4585a0e4-42ae-4a16-9217-eb9dff2f0033",
   "metadata": {},
   "outputs": [],
   "source": [
    "data['Time'] = pd.to_datetime(data['Time'], unit='s')"
   ]
  },
  {
   "cell_type": "code",
   "execution_count": 17,
   "id": "8787c260-2fcb-4ccc-831a-4e1eb5306d00",
   "metadata": {},
   "outputs": [],
   "source": [
    "import warnings\n",
    "from warnings import filterwarnings\n",
    "filterwarnings('ignore')"
   ]
  },
  {
   "cell_type": "code",
   "execution_count": 19,
   "id": "1cb5eed1-8fe2-49e6-8682-74428e6fbfd8",
   "metadata": {},
   "outputs": [
    {
     "data": {
      "text/plain": [
       "Id                                 int64\n",
       "ProductId                         object\n",
       "UserId                            object\n",
       "ProfileName                       object\n",
       "HelpfulnessNumerator               int64\n",
       "HelpfulnessDenominator             int64\n",
       "Score                              int64\n",
       "Time                      datetime64[ns]\n",
       "Summary                           object\n",
       "Text                              object\n",
       "dtype: object"
      ]
     },
     "execution_count": 19,
     "metadata": {},
     "output_type": "execute_result"
    }
   ],
   "source": [
    "data.dtypes"
   ]
  },
  {
   "cell_type": "code",
   "execution_count": 20,
   "id": "a4a3889a-c9bc-4007-9e30-7fb6dfa3abea",
   "metadata": {},
   "outputs": [
    {
     "data": {
      "text/html": [
       "<div>\n",
       "<style scoped>\n",
       "    .dataframe tbody tr th:only-of-type {\n",
       "        vertical-align: middle;\n",
       "    }\n",
       "\n",
       "    .dataframe tbody tr th {\n",
       "        vertical-align: top;\n",
       "    }\n",
       "\n",
       "    .dataframe thead th {\n",
       "        text-align: right;\n",
       "    }\n",
       "</style>\n",
       "<table border=\"1\" class=\"dataframe\">\n",
       "  <thead>\n",
       "    <tr style=\"text-align: right;\">\n",
       "      <th></th>\n",
       "      <th>Id</th>\n",
       "      <th>ProductId</th>\n",
       "      <th>UserId</th>\n",
       "      <th>ProfileName</th>\n",
       "      <th>HelpfulnessNumerator</th>\n",
       "      <th>HelpfulnessDenominator</th>\n",
       "      <th>Score</th>\n",
       "      <th>Time</th>\n",
       "      <th>Summary</th>\n",
       "      <th>Text</th>\n",
       "    </tr>\n",
       "  </thead>\n",
       "  <tbody>\n",
       "    <tr>\n",
       "      <th>0</th>\n",
       "      <td>1</td>\n",
       "      <td>B001E4KFG0</td>\n",
       "      <td>A3SGXH7AUHU8GW</td>\n",
       "      <td>delmartian</td>\n",
       "      <td>1</td>\n",
       "      <td>1</td>\n",
       "      <td>5</td>\n",
       "      <td>2011-04-27</td>\n",
       "      <td>Good Quality Dog Food</td>\n",
       "      <td>I have bought several of the Vitality canned d...</td>\n",
       "    </tr>\n",
       "    <tr>\n",
       "      <th>1</th>\n",
       "      <td>2</td>\n",
       "      <td>B00813GRG4</td>\n",
       "      <td>A1D87F6ZCVE5NK</td>\n",
       "      <td>dll pa</td>\n",
       "      <td>0</td>\n",
       "      <td>0</td>\n",
       "      <td>1</td>\n",
       "      <td>2012-09-07</td>\n",
       "      <td>Not as Advertised</td>\n",
       "      <td>Product arrived labeled as Jumbo Salted Peanut...</td>\n",
       "    </tr>\n",
       "    <tr>\n",
       "      <th>2</th>\n",
       "      <td>3</td>\n",
       "      <td>B000LQOCH0</td>\n",
       "      <td>ABXLMWJIXXAIN</td>\n",
       "      <td>Natalia Corres \"Natalia Corres\"</td>\n",
       "      <td>1</td>\n",
       "      <td>1</td>\n",
       "      <td>4</td>\n",
       "      <td>2008-08-18</td>\n",
       "      <td>\"Delight\" says it all</td>\n",
       "      <td>This is a confection that has been around a fe...</td>\n",
       "    </tr>\n",
       "  </tbody>\n",
       "</table>\n",
       "</div>"
      ],
      "text/plain": [
       "   Id   ProductId          UserId                      ProfileName  \\\n",
       "0   1  B001E4KFG0  A3SGXH7AUHU8GW                       delmartian   \n",
       "1   2  B00813GRG4  A1D87F6ZCVE5NK                           dll pa   \n",
       "2   3  B000LQOCH0   ABXLMWJIXXAIN  Natalia Corres \"Natalia Corres\"   \n",
       "\n",
       "   HelpfulnessNumerator  HelpfulnessDenominator  Score       Time  \\\n",
       "0                     1                       1      5 2011-04-27   \n",
       "1                     0                       0      1 2012-09-07   \n",
       "2                     1                       1      4 2008-08-18   \n",
       "\n",
       "                 Summary                                               Text  \n",
       "0  Good Quality Dog Food  I have bought several of the Vitality canned d...  \n",
       "1      Not as Advertised  Product arrived labeled as Jumbo Salted Peanut...  \n",
       "2  \"Delight\" says it all  This is a confection that has been around a fe...  "
      ]
     },
     "execution_count": 20,
     "metadata": {},
     "output_type": "execute_result"
    }
   ],
   "source": [
    "data.head(3)"
   ]
  },
  {
   "cell_type": "markdown",
   "id": "7c2eeb41-3d1f-4d7f-9f0a-74e7f2bca902",
   "metadata": {},
   "source": [
    "# 30 - How Amazon recommend product"
   ]
  },
  {
   "cell_type": "code",
   "execution_count": 21,
   "id": "e82abe89-db91-4546-a888-2c002890b92e",
   "metadata": {},
   "outputs": [
    {
     "data": {
      "text/plain": [
       "Index(['Id', 'ProductId', 'UserId', 'ProfileName', 'HelpfulnessNumerator',\n",
       "       'HelpfulnessDenominator', 'Score', 'Time', 'Summary', 'Text'],\n",
       "      dtype='object')"
      ]
     },
     "execution_count": 21,
     "metadata": {},
     "output_type": "execute_result"
    }
   ],
   "source": [
    "data.columns"
   ]
  },
  {
   "cell_type": "code",
   "execution_count": 22,
   "id": "f77ceaf3-cb3f-49c6-a18f-f84ea33871f9",
   "metadata": {},
   "outputs": [
    {
     "data": {
      "text/plain": [
       "array(['delmartian', 'dll pa', 'Natalia Corres \"Natalia Corres\"', ...,\n",
       "       'Lettie D. Carter', 'pksd \"pk_007\"', 'srfell17'],\n",
       "      shape=(218418,), dtype=object)"
      ]
     },
     "execution_count": 22,
     "metadata": {},
     "output_type": "execute_result"
    }
   ],
   "source": [
    "data['ProfileName'].unique()"
   ]
  },
  {
   "cell_type": "code",
   "execution_count": 24,
   "id": "11600fe1-dc04-4038-b8b3-7e3deae9f2e5",
   "metadata": {},
   "outputs": [
    {
     "data": {
      "text/plain": [
       "218418"
      ]
     },
     "execution_count": 24,
     "metadata": {},
     "output_type": "execute_result"
    }
   ],
   "source": [
    "data['ProfileName'].nunique()"
   ]
  },
  {
   "cell_type": "code",
   "execution_count": 25,
   "id": "55124ea4-8cc1-430a-b48a-a5c7cef764d8",
   "metadata": {},
   "outputs": [
    {
     "data": {
      "text/plain": [
       "256059"
      ]
     },
     "execution_count": 25,
     "metadata": {},
     "output_type": "execute_result"
    }
   ],
   "source": [
    "data['UserId'].nunique()"
   ]
  },
  {
   "cell_type": "code",
   "execution_count": 27,
   "id": "0456f1ad-ffbe-4eb3-b17b-41a953af7010",
   "metadata": {},
   "outputs": [],
   "source": [
    "recommend_df = data.groupby(['UserId']).agg({'Summary':'count', 'Text':'count', 'Score':'mean', 'ProductId':'count'}).sort_values(by='ProductId', ascending=False)"
   ]
  },
  {
   "cell_type": "code",
   "execution_count": 28,
   "id": "c02e7542-575c-4fac-b559-f36dd2dc3047",
   "metadata": {},
   "outputs": [
    {
     "data": {
      "text/html": [
       "<div>\n",
       "<style scoped>\n",
       "    .dataframe tbody tr th:only-of-type {\n",
       "        vertical-align: middle;\n",
       "    }\n",
       "\n",
       "    .dataframe tbody tr th {\n",
       "        vertical-align: top;\n",
       "    }\n",
       "\n",
       "    .dataframe thead th {\n",
       "        text-align: right;\n",
       "    }\n",
       "</style>\n",
       "<table border=\"1\" class=\"dataframe\">\n",
       "  <thead>\n",
       "    <tr style=\"text-align: right;\">\n",
       "      <th></th>\n",
       "      <th>Summary</th>\n",
       "      <th>Text</th>\n",
       "      <th>Score</th>\n",
       "      <th>ProductId</th>\n",
       "    </tr>\n",
       "    <tr>\n",
       "      <th>UserId</th>\n",
       "      <th></th>\n",
       "      <th></th>\n",
       "      <th></th>\n",
       "      <th></th>\n",
       "    </tr>\n",
       "  </thead>\n",
       "  <tbody>\n",
       "    <tr>\n",
       "      <th>AY12DBB0U420B</th>\n",
       "      <td>329</td>\n",
       "      <td>329</td>\n",
       "      <td>4.659574</td>\n",
       "      <td>329</td>\n",
       "    </tr>\n",
       "    <tr>\n",
       "      <th>A3OXHLG6DIBRW8</th>\n",
       "      <td>278</td>\n",
       "      <td>278</td>\n",
       "      <td>4.546763</td>\n",
       "      <td>278</td>\n",
       "    </tr>\n",
       "    <tr>\n",
       "      <th>A281NPSIMI1C2R</th>\n",
       "      <td>259</td>\n",
       "      <td>259</td>\n",
       "      <td>4.787645</td>\n",
       "      <td>259</td>\n",
       "    </tr>\n",
       "  </tbody>\n",
       "</table>\n",
       "</div>"
      ],
      "text/plain": [
       "                Summary  Text     Score  ProductId\n",
       "UserId                                            \n",
       "AY12DBB0U420B       329   329  4.659574        329\n",
       "A3OXHLG6DIBRW8      278   278  4.546763        278\n",
       "A281NPSIMI1C2R      259   259  4.787645        259"
      ]
     },
     "execution_count": 28,
     "metadata": {},
     "output_type": "execute_result"
    }
   ],
   "source": [
    "recommend_df.head(3)"
   ]
  },
  {
   "cell_type": "code",
   "execution_count": 29,
   "id": "3eac22d0-e365-43e4-96c7-9e175bc49193",
   "metadata": {},
   "outputs": [],
   "source": [
    "recommend_df.columns = ['Number_of_summary','num_text','avg_score','no_of_prds_purcharse']"
   ]
  },
  {
   "cell_type": "code",
   "execution_count": 30,
   "id": "71ac23b2-dfcc-447e-8d73-85ef5509be06",
   "metadata": {},
   "outputs": [
    {
     "data": {
      "text/html": [
       "<div>\n",
       "<style scoped>\n",
       "    .dataframe tbody tr th:only-of-type {\n",
       "        vertical-align: middle;\n",
       "    }\n",
       "\n",
       "    .dataframe tbody tr th {\n",
       "        vertical-align: top;\n",
       "    }\n",
       "\n",
       "    .dataframe thead th {\n",
       "        text-align: right;\n",
       "    }\n",
       "</style>\n",
       "<table border=\"1\" class=\"dataframe\">\n",
       "  <thead>\n",
       "    <tr style=\"text-align: right;\">\n",
       "      <th></th>\n",
       "      <th>Number_of_summary</th>\n",
       "      <th>num_text</th>\n",
       "      <th>avg_score</th>\n",
       "      <th>no_of_prds_purcharse</th>\n",
       "    </tr>\n",
       "    <tr>\n",
       "      <th>UserId</th>\n",
       "      <th></th>\n",
       "      <th></th>\n",
       "      <th></th>\n",
       "      <th></th>\n",
       "    </tr>\n",
       "  </thead>\n",
       "  <tbody>\n",
       "    <tr>\n",
       "      <th>AY12DBB0U420B</th>\n",
       "      <td>329</td>\n",
       "      <td>329</td>\n",
       "      <td>4.659574</td>\n",
       "      <td>329</td>\n",
       "    </tr>\n",
       "    <tr>\n",
       "      <th>A3OXHLG6DIBRW8</th>\n",
       "      <td>278</td>\n",
       "      <td>278</td>\n",
       "      <td>4.546763</td>\n",
       "      <td>278</td>\n",
       "    </tr>\n",
       "    <tr>\n",
       "      <th>A281NPSIMI1C2R</th>\n",
       "      <td>259</td>\n",
       "      <td>259</td>\n",
       "      <td>4.787645</td>\n",
       "      <td>259</td>\n",
       "    </tr>\n",
       "  </tbody>\n",
       "</table>\n",
       "</div>"
      ],
      "text/plain": [
       "                Number_of_summary  num_text  avg_score  no_of_prds_purcharse\n",
       "UserId                                                                      \n",
       "AY12DBB0U420B                 329       329   4.659574                   329\n",
       "A3OXHLG6DIBRW8                278       278   4.546763                   278\n",
       "A281NPSIMI1C2R                259       259   4.787645                   259"
      ]
     },
     "execution_count": 30,
     "metadata": {},
     "output_type": "execute_result"
    }
   ],
   "source": [
    "recommend_df.head(3)"
   ]
  },
  {
   "cell_type": "code",
   "execution_count": 32,
   "id": "88ba9397-b50e-4d8e-b6af-a32d12ef2d9b",
   "metadata": {},
   "outputs": [
    {
     "data": {
      "text/plain": [
       "Index(['AY12DBB0U420B', 'A3OXHLG6DIBRW8', 'A281NPSIMI1C2R', 'A1YUL9PCJR3JTY',\n",
       "       'A1Z54EM24Y40LL', 'A2MUGFV2TDQ47K', 'A3D6OI36USYOU1', 'AZV26LP92E6WU',\n",
       "       'AKMEY1BSHSDG7', 'A2GEZJHBV92EVR'],\n",
       "      dtype='object', name='UserId')"
      ]
     },
     "execution_count": 32,
     "metadata": {},
     "output_type": "execute_result"
    }
   ],
   "source": [
    "recommend_df.index[0:10]"
   ]
  },
  {
   "cell_type": "code",
   "execution_count": 34,
   "id": "89639826-2045-49c5-99b7-e1c3542d7664",
   "metadata": {},
   "outputs": [
    {
     "data": {
      "text/plain": [
       "array([329, 278, 259, 214, 211, 161, 146, 129, 119, 118])"
      ]
     },
     "execution_count": 34,
     "metadata": {},
     "output_type": "execute_result"
    }
   ],
   "source": [
    "recommend_df['no_of_prds_purcharse'][0:10].values"
   ]
  },
  {
   "cell_type": "code",
   "execution_count": 35,
   "id": "7c843a09-4288-4cea-a328-95b3febcb37f",
   "metadata": {},
   "outputs": [
    {
     "data": {
      "text/plain": [
       "<BarContainer object of 10 artists>"
      ]
     },
     "execution_count": 35,
     "metadata": {},
     "output_type": "execute_result"
    },
    {
     "data": {
      "image/png": "[encoded data removed]",
      "text/plain": [
       "<Figure size 640x480 with 1 Axes>"
      ]
     },
     "metadata": {},
     "output_type": "display_data"
    }
   ],
   "source": [
    "plt.bar(recommend_df.index[0:10], recommend_df['no_of_prds_purcharse'][0:10].values)"
   ]
  },
  {
   "cell_type": "code",
   "execution_count": 37,
   "id": "eef73595-71af-4e56-a0ce-351cef3510ea",
   "metadata": {},
   "outputs": [
    {
     "data": {
      "text/plain": [
       "([0, 1, 2, 3, 4, 5, 6, 7, 8, 9],\n",
       " [Text(0, 0, 'AY12DBB0U420B'),\n",
       "  Text(1, 0, 'A3OXHLG6DIBRW8'),\n",
       "  Text(2, 0, 'A281NPSIMI1C2R'),\n",
       "  Text(3, 0, 'A1YUL9PCJR3JTY'),\n",
       "  Text(4, 0, 'A1Z54EM24Y40LL'),\n",
       "  Text(5, 0, 'A2MUGFV2TDQ47K'),\n",
       "  Text(6, 0, 'A3D6OI36USYOU1'),\n",
       "  Text(7, 0, 'AZV26LP92E6WU'),\n",
       "  Text(8, 0, 'AKMEY1BSHSDG7'),\n",
       "  Text(9, 0, 'A2GEZJHBV92EVR')])"
      ]
     },
     "execution_count": 37,
     "metadata": {},
     "output_type": "execute_result"
    },
    {
     "data": {
      "image/png": "[encoded data removed]",
      "text/plain": [
       "<Figure size 640x480 with 1 Axes>"
      ]
     },
     "metadata": {},
     "output_type": "display_data"
    }
   ],
   "source": [
    "plt.bar(recommend_df.index[0:10], recommend_df['no_of_prds_purcharse'][0:10].values)\n",
    "plt.xticks(rotation='vertical')"
   ]
  },
  {
   "cell_type": "markdown",
   "id": "b86cfa1c-d424-4beb-9a3c-7a81702d3df8",
   "metadata": {},
   "source": [
    "# 31 - Analysing which product has good number of Reviews"
   ]
  },
  {
   "cell_type": "code",
   "execution_count": 38,
   "id": "b81944f9-254b-47bc-83f3-57226d494564",
   "metadata": {},
   "outputs": [
    {
     "data": {
      "text/plain": [
       "Index(['Id', 'ProductId', 'UserId', 'ProfileName', 'HelpfulnessNumerator',\n",
       "       'HelpfulnessDenominator', 'Score', 'Time', 'Summary', 'Text'],\n",
       "      dtype='object')"
      ]
     },
     "execution_count": 38,
     "metadata": {},
     "output_type": "execute_result"
    }
   ],
   "source": [
    "data.columns"
   ]
  },
  {
   "cell_type": "code",
   "execution_count": 39,
   "id": "9b818105-8051-4c8a-bd61-b363d6c3fd3a",
   "metadata": {},
   "outputs": [
    {
     "data": {
      "text/plain": [
       "67624"
      ]
     },
     "execution_count": 39,
     "metadata": {},
     "output_type": "execute_result"
    }
   ],
   "source": [
    "len(data['ProductId'].unique())"
   ]
  },
  {
   "cell_type": "code",
   "execution_count": 40,
   "id": "8ea23b9d-061a-4018-a17d-cf8829f8d191",
   "metadata": {},
   "outputs": [
    {
     "data": {
      "text/plain": [
       "67624"
      ]
     },
     "execution_count": 40,
     "metadata": {},
     "output_type": "execute_result"
    }
   ],
   "source": [
    "data['ProductId'].nunique()"
   ]
  },
  {
   "cell_type": "code",
   "execution_count": 42,
   "id": "674591a5-aaed-4bcc-a623-21aec137c9d3",
   "metadata": {},
   "outputs": [
    {
     "data": {
      "text/plain": [
       "pandas.core.series.Series"
      ]
     },
     "execution_count": 42,
     "metadata": {},
     "output_type": "execute_result"
    }
   ],
   "source": [
    "type(data['ProductId'].value_counts())"
   ]
  },
  {
   "cell_type": "code",
   "execution_count": 43,
   "id": "03efc288-d203-4e59-a9c7-04ce35fd0b61",
   "metadata": {},
   "outputs": [
    {
     "data": {
      "text/plain": [
       "ProductId\n",
       "B007JFMH8M    912\n",
       "B002QWP89S    630\n",
       "B003B3OOPA    622\n",
       "B001EO5Q64    566\n",
       "B0013NUGDE    558\n",
       "             ... \n",
       "B002DNX4GO      1\n",
       "B000FM2YU2      1\n",
       "B001M1VA32      1\n",
       "B009858H6M      1\n",
       "B001LR2CU2      1\n",
       "Name: count, Length: 67624, dtype: int64"
      ]
     },
     "execution_count": 43,
     "metadata": {},
     "output_type": "execute_result"
    }
   ],
   "source": [
    "data['ProductId'].value_counts()"
   ]
  },
  {
   "cell_type": "code",
   "execution_count": 45,
   "id": "6d7cc2ba-2795-41e5-8e74-724b62bc43dd",
   "metadata": {},
   "outputs": [],
   "source": [
    "prd_count = data['ProductId'].value_counts().to_frame()"
   ]
  },
  {
   "cell_type": "code",
   "execution_count": 48,
   "id": "dc6f51e5-6f14-4bd7-a1f7-cecb19dd309c",
   "metadata": {},
   "outputs": [
    {
     "data": {
      "text/plain": [
       "Index(['B007JFMH8M', 'B002QWP89S', 'B003B3OOPA', 'B001EO5Q64', 'B0013NUGDE',\n",
       "       'B000KV61FC', 'B000UBD88A', 'B000NMJWZO', 'B005K4Q37A', 'B0090X8IPM',\n",
       "       ...\n",
       "       'B00523DZQ6', 'B001EO65S2', 'B0007SVCRK', 'B000J3GDMC', 'B0057OOOFG',\n",
       "       'B002DNX4GO', 'B000FM2YU2', 'B001M1VA32', 'B009858H6M', 'B001LR2CU2'],\n",
       "      dtype='object', name='ProductId', length=67624)"
      ]
     },
     "execution_count": 48,
     "metadata": {},
     "output_type": "execute_result"
    }
   ],
   "source": [
    "prd_count.index"
   ]
  },
  {
   "cell_type": "code",
   "execution_count": 52,
   "id": "9a64aa63-60e5-4b3e-b152-97e0b3f37187",
   "metadata": {},
   "outputs": [],
   "source": [
    "frequent_prd_ids = prd_count[prd_count['count']>500].index"
   ]
  },
  {
   "cell_type": "code",
   "execution_count": 53,
   "id": "85949c58-d82e-4ecf-8f96-8cdd0254c872",
   "metadata": {},
   "outputs": [
    {
     "data": {
      "text/plain": [
       "0         False\n",
       "1         False\n",
       "2         False\n",
       "3         False\n",
       "4         False\n",
       "          ...  \n",
       "568449    False\n",
       "568450    False\n",
       "568451    False\n",
       "568452    False\n",
       "568453    False\n",
       "Name: ProductId, Length: 393931, dtype: bool"
      ]
     },
     "execution_count": 53,
     "metadata": {},
     "output_type": "execute_result"
    }
   ],
   "source": [
    "data['ProductId'].isin(frequent_prd_ids)"
   ]
  },
  {
   "cell_type": "code",
   "execution_count": 55,
   "id": "43841924-f472-43db-91dc-9b4227d7cc2a",
   "metadata": {},
   "outputs": [
    {
     "data": {
      "text/html": [
       "<div>\n",
       "<style scoped>\n",
       "    .dataframe tbody tr th:only-of-type {\n",
       "        vertical-align: middle;\n",
       "    }\n",
       "\n",
       "    .dataframe tbody tr th {\n",
       "        vertical-align: top;\n",
       "    }\n",
       "\n",
       "    .dataframe thead th {\n",
       "        text-align: right;\n",
       "    }\n",
       "</style>\n",
       "<table border=\"1\" class=\"dataframe\">\n",
       "  <thead>\n",
       "    <tr style=\"text-align: right;\">\n",
       "      <th></th>\n",
       "      <th>Id</th>\n",
       "      <th>ProductId</th>\n",
       "      <th>UserId</th>\n",
       "      <th>ProfileName</th>\n",
       "      <th>HelpfulnessNumerator</th>\n",
       "      <th>HelpfulnessDenominator</th>\n",
       "      <th>Score</th>\n",
       "      <th>Time</th>\n",
       "      <th>Summary</th>\n",
       "      <th>Text</th>\n",
       "    </tr>\n",
       "  </thead>\n",
       "  <tbody>\n",
       "    <tr>\n",
       "      <th>20982</th>\n",
       "      <td>20983</td>\n",
       "      <td>B002QWP89S</td>\n",
       "      <td>A21U4DR8M6I9QN</td>\n",
       "      <td>K. M Merrill \"justine\"</td>\n",
       "      <td>1</td>\n",
       "      <td>1</td>\n",
       "      <td>5</td>\n",
       "      <td>2011-10-18</td>\n",
       "      <td>addictive! but works for night coughing in dogs</td>\n",
       "      <td>my 12 year old sheltie has chronic brochotitis...</td>\n",
       "    </tr>\n",
       "    <tr>\n",
       "      <th>20983</th>\n",
       "      <td>20984</td>\n",
       "      <td>B002QWP89S</td>\n",
       "      <td>A17TDUBB4Z1PEC</td>\n",
       "      <td>jaded_green</td>\n",
       "      <td>1</td>\n",
       "      <td>1</td>\n",
       "      <td>5</td>\n",
       "      <td>2011-10-14</td>\n",
       "      <td>genuine Greenies best price</td>\n",
       "      <td>These are genuine Greenies product, not a knoc...</td>\n",
       "    </tr>\n",
       "    <tr>\n",
       "      <th>20984</th>\n",
       "      <td>20985</td>\n",
       "      <td>B002QWP89S</td>\n",
       "      <td>ABQH3WAWMSMBH</td>\n",
       "      <td>tenisbrat87</td>\n",
       "      <td>1</td>\n",
       "      <td>1</td>\n",
       "      <td>5</td>\n",
       "      <td>2011-09-28</td>\n",
       "      <td>Perfect for our little doggies</td>\n",
       "      <td>Our dogs love Greenies, but of course, which d...</td>\n",
       "    </tr>\n",
       "    <tr>\n",
       "      <th>20985</th>\n",
       "      <td>20986</td>\n",
       "      <td>B002QWP89S</td>\n",
       "      <td>AVTY5M74VA1BJ</td>\n",
       "      <td>tarotqueen</td>\n",
       "      <td>1</td>\n",
       "      <td>1</td>\n",
       "      <td>5</td>\n",
       "      <td>2011-09-24</td>\n",
       "      <td>dogs love greenies</td>\n",
       "      <td>What can I say, dogs love greenies. They begg ...</td>\n",
       "    </tr>\n",
       "    <tr>\n",
       "      <th>20986</th>\n",
       "      <td>20987</td>\n",
       "      <td>B002QWP89S</td>\n",
       "      <td>A13TNN54ZEAUB1</td>\n",
       "      <td>dcz2221</td>\n",
       "      <td>1</td>\n",
       "      <td>1</td>\n",
       "      <td>5</td>\n",
       "      <td>2011-09-23</td>\n",
       "      <td>Greenies review</td>\n",
       "      <td>This review is for a box of Greenies Lite for ...</td>\n",
       "    </tr>\n",
       "    <tr>\n",
       "      <th>...</th>\n",
       "      <td>...</td>\n",
       "      <td>...</td>\n",
       "      <td>...</td>\n",
       "      <td>...</td>\n",
       "      <td>...</td>\n",
       "      <td>...</td>\n",
       "      <td>...</td>\n",
       "      <td>...</td>\n",
       "      <td>...</td>\n",
       "      <td>...</td>\n",
       "    </tr>\n",
       "    <tr>\n",
       "      <th>563878</th>\n",
       "      <td>563879</td>\n",
       "      <td>B007JFMH8M</td>\n",
       "      <td>A366PSH7KFLRPB</td>\n",
       "      <td>TheRosySnail</td>\n",
       "      <td>0</td>\n",
       "      <td>0</td>\n",
       "      <td>5</td>\n",
       "      <td>2012-07-29</td>\n",
       "      <td>Yummy!</td>\n",
       "      <td>I loved these cookies and so did my kids. You ...</td>\n",
       "    </tr>\n",
       "    <tr>\n",
       "      <th>563879</th>\n",
       "      <td>563880</td>\n",
       "      <td>B007JFMH8M</td>\n",
       "      <td>A2KV6EYQPKJRR5</td>\n",
       "      <td>Kelley</td>\n",
       "      <td>0</td>\n",
       "      <td>0</td>\n",
       "      <td>5</td>\n",
       "      <td>2012-07-28</td>\n",
       "      <td>Quaker Soft Baked Cookies</td>\n",
       "      <td>This is a great tasting cookie. It is very sof...</td>\n",
       "    </tr>\n",
       "    <tr>\n",
       "      <th>563880</th>\n",
       "      <td>563881</td>\n",
       "      <td>B007JFMH8M</td>\n",
       "      <td>A3O7REI0OSV89M</td>\n",
       "      <td>Esme</td>\n",
       "      <td>0</td>\n",
       "      <td>0</td>\n",
       "      <td>4</td>\n",
       "      <td>2012-07-28</td>\n",
       "      <td>Delicious!</td>\n",
       "      <td>These are great for a quick snack! They are sa...</td>\n",
       "    </tr>\n",
       "    <tr>\n",
       "      <th>563881</th>\n",
       "      <td>563882</td>\n",
       "      <td>B007JFMH8M</td>\n",
       "      <td>A9JS5GQQ6GIQT</td>\n",
       "      <td>Syne</td>\n",
       "      <td>0</td>\n",
       "      <td>0</td>\n",
       "      <td>5</td>\n",
       "      <td>2012-07-28</td>\n",
       "      <td>yummy</td>\n",
       "      <td>I love the Quaker soft baked cookies.  The rea...</td>\n",
       "    </tr>\n",
       "    <tr>\n",
       "      <th>563882</th>\n",
       "      <td>563883</td>\n",
       "      <td>B007JFMH8M</td>\n",
       "      <td>AMAVEZAGCH52H</td>\n",
       "      <td>Tangela</td>\n",
       "      <td>0</td>\n",
       "      <td>0</td>\n",
       "      <td>5</td>\n",
       "      <td>2012-07-28</td>\n",
       "      <td>Quaker Soft Baked Cookie</td>\n",
       "      <td>This cookie is really good and works really we...</td>\n",
       "    </tr>\n",
       "  </tbody>\n",
       "</table>\n",
       "<p>6504 rows × 10 columns</p>\n",
       "</div>"
      ],
      "text/plain": [
       "            Id   ProductId          UserId             ProfileName  \\\n",
       "20982    20983  B002QWP89S  A21U4DR8M6I9QN  K. M Merrill \"justine\"   \n",
       "20983    20984  B002QWP89S  A17TDUBB4Z1PEC             jaded_green   \n",
       "20984    20985  B002QWP89S   ABQH3WAWMSMBH             tenisbrat87   \n",
       "20985    20986  B002QWP89S   AVTY5M74VA1BJ              tarotqueen   \n",
       "20986    20987  B002QWP89S  A13TNN54ZEAUB1                 dcz2221   \n",
       "...        ...         ...             ...                     ...   \n",
       "563878  563879  B007JFMH8M  A366PSH7KFLRPB            TheRosySnail   \n",
       "563879  563880  B007JFMH8M  A2KV6EYQPKJRR5                  Kelley   \n",
       "563880  563881  B007JFMH8M  A3O7REI0OSV89M                    Esme   \n",
       "563881  563882  B007JFMH8M   A9JS5GQQ6GIQT                    Syne   \n",
       "563882  563883  B007JFMH8M   AMAVEZAGCH52H                 Tangela   \n",
       "\n",
       "        HelpfulnessNumerator  HelpfulnessDenominator  Score       Time  \\\n",
       "20982                      1                       1      5 2011-10-18   \n",
       "20983                      1                       1      5 2011-10-14   \n",
       "20984                      1                       1      5 2011-09-28   \n",
       "20985                      1                       1      5 2011-09-24   \n",
       "20986                      1                       1      5 2011-09-23   \n",
       "...                      ...                     ...    ...        ...   \n",
       "563878                     0                       0      5 2012-07-29   \n",
       "563879                     0                       0      5 2012-07-28   \n",
       "563880                     0                       0      4 2012-07-28   \n",
       "563881                     0                       0      5 2012-07-28   \n",
       "563882                     0                       0      5 2012-07-28   \n",
       "\n",
       "                                                Summary  \\\n",
       "20982   addictive! but works for night coughing in dogs   \n",
       "20983                       genuine Greenies best price   \n",
       "20984                    Perfect for our little doggies   \n",
       "20985                                dogs love greenies   \n",
       "20986                                   Greenies review   \n",
       "...                                                 ...   \n",
       "563878                                           Yummy!   \n",
       "563879                        Quaker Soft Baked Cookies   \n",
       "563880                                       Delicious!   \n",
       "563881                                            yummy   \n",
       "563882                         Quaker Soft Baked Cookie   \n",
       "\n",
       "                                                     Text  \n",
       "20982   my 12 year old sheltie has chronic brochotitis...  \n",
       "20983   These are genuine Greenies product, not a knoc...  \n",
       "20984   Our dogs love Greenies, but of course, which d...  \n",
       "20985   What can I say, dogs love greenies. They begg ...  \n",
       "20986   This review is for a box of Greenies Lite for ...  \n",
       "...                                                   ...  \n",
       "563878  I loved these cookies and so did my kids. You ...  \n",
       "563879  This is a great tasting cookie. It is very sof...  \n",
       "563880  These are great for a quick snack! They are sa...  \n",
       "563881  I love the Quaker soft baked cookies.  The rea...  \n",
       "563882  This cookie is really good and works really we...  \n",
       "\n",
       "[6504 rows x 10 columns]"
      ]
     },
     "execution_count": 55,
     "metadata": {},
     "output_type": "execute_result"
    }
   ],
   "source": [
    "fre_prd_df = data[data['ProductId'].isin(frequent_prd_ids)]\n",
    "fre_prd_df"
   ]
  },
  {
   "cell_type": "code",
   "execution_count": 57,
   "id": "3588c2d0-cc79-428b-bb57-820d6a1ed24c",
   "metadata": {},
   "outputs": [
    {
     "data": {
      "text/plain": [
       "Index(['Id', 'ProductId', 'UserId', 'ProfileName', 'HelpfulnessNumerator',\n",
       "       'HelpfulnessDenominator', 'Score', 'Time', 'Summary', 'Text'],\n",
       "      dtype='object')"
      ]
     },
     "execution_count": 57,
     "metadata": {},
     "output_type": "execute_result"
    }
   ],
   "source": [
    "fre_prd_df.columns"
   ]
  },
  {
   "cell_type": "code",
   "execution_count": 60,
   "id": "4436beb3-9e37-4e44-ae8f-d14bac937cf0",
   "metadata": {},
   "outputs": [
    {
     "data": {
      "text/plain": [
       "<Axes: xlabel='count', ylabel='ProductId'>"
      ]
     },
     "execution_count": 60,
     "metadata": {},
     "output_type": "execute_result"
    },
    {
     "data": {
      "image/png": "[encoded data removed]",
      "text/plain": [
       "<Figure size 640x480 with 1 Axes>"
      ]
     },
     "metadata": {},
     "output_type": "display_data"
    }
   ],
   "source": [
    "sns.countplot(y='ProductId', data = fre_prd_df, hue='Score')"
   ]
  }
 ],
 "metadata": {
  "kernelspec": {
   "display_name": "Python 3 (ipykernel)",
   "language": "python",
   "name": "python3"
  },
  "language_info": {
   "codemirror_mode": {
    "name": "ipython",
    "version": 3
   },
   "file_extension": ".py",
   "mimetype": "text/x-python",
   "name": "python",
   "nbconvert_exporter": "python",
   "pygments_lexer": "ipython3",
   "version": "3.13.2"
  }
 },
 "nbformat": 4,
 "nbformat_minor": 5
}
