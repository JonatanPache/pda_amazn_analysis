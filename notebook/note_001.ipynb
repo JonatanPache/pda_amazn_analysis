{
 "cells": [
  {
   "cell_type": "markdown",
   "id": "a6b448bd-5aca-4b70-a1d7-eccb95b6f24c",
   "metadata": {},
   "source": [
    "# 28 - How to Read Data from SQLite Database"
   ]
  },
  {
   "cell_type": "code",
   "execution_count": 2,
   "id": "a1bdda40-24df-4ddf-84a4-47acbc6908c9",
   "metadata": {},
   "outputs": [],
   "source": [
    "import pandas as pd\n",
    "import numpy as np\n",
    "import seaborn as sns\n",
    "import matplotlib.pyplot as plt\n",
    "import sqlite3"
   ]
  },
  {
   "cell_type": "code",
   "execution_count": 3,
   "id": "af592a7b-d008-4cfe-aa7d-5ca157ea5121",
   "metadata": {},
   "outputs": [
    {
     "data": {
      "text/plain": [
       "sqlite3.Connection"
      ]
     },
     "execution_count": 3,
     "metadata": {},
     "output_type": "execute_result"
    }
   ],
   "source": [
    "con = sqlite3.connect(\"/home/yeat/Documents/cursos/Udemy - Data Analysis Real world use-cases- Hands on Python 2024-1/5 - Project 3 Amazon Customers Data Analysis/Project 3.. Amazon Customers Data Analysis/database.sqlite\")\n",
    "type(con)"
   ]
  },
  {
   "cell_type": "code",
   "execution_count": 4,
   "id": "19eab0e8-f9b5-47e2-9326-597164682775",
   "metadata": {},
   "outputs": [
    {
     "data": {
      "text/plain": [
       "(568454, 10)"
      ]
     },
     "execution_count": 4,
     "metadata": {},
     "output_type": "execute_result"
    }
   ],
   "source": [
    "df = pd.read_sql_query(\"SELECT * FROM REVIEWS\",con)\n",
    "df.shape"
   ]
  },
  {
   "cell_type": "markdown",
   "id": "f9d3872f-0bb8-479a-a000-e3c9d696da24",
   "metadata": {},
   "source": [
    "# 29 - Data Preparation"
   ]
  },
  {
   "cell_type": "code",
   "execution_count": null,
   "id": "8adaa8c3-05d4-4973-be18-d76b052fdd27",
   "metadata": {},
   "outputs": [],
   "source": [
    "df.columns"
   ]
  },
  {
   "cell_type": "code",
   "execution_count": null,
   "id": "d7cf0a8a-aa2f-43f6-babf-d02d9fbfc514",
   "metadata": {},
   "outputs": [],
   "source": [
    "df.head(3)"
   ]
  },
  {
   "cell_type": "code",
   "execution_count": 5,
   "id": "e976fab7-7e93-4e81-85eb-8ea03b0d0c73",
   "metadata": {},
   "outputs": [],
   "source": [
    "df_valid = df[df['HelpfulnessNumerator'] <= df['HelpfulnessDenominator']]"
   ]
  },
  {
   "cell_type": "code",
   "execution_count": null,
   "id": "0ead2cb3-a39b-4bd8-acc7-c1f33bba1eed",
   "metadata": {},
   "outputs": [],
   "source": [
    "df_valid.shape"
   ]
  },
  {
   "cell_type": "code",
   "execution_count": null,
   "id": "bd00d466-16c6-4e2e-a5a3-8a493a7e01fc",
   "metadata": {},
   "outputs": [],
   "source": [
    "df_valid.columns"
   ]
  },
  {
   "cell_type": "code",
   "execution_count": 6,
   "id": "d5859fba-7537-4700-9b6a-9bd45653769b",
   "metadata": {},
   "outputs": [
    {
     "data": {
      "text/html": [
       "<div>\n",
       "<style scoped>\n",
       "    .dataframe tbody tr th:only-of-type {\n",
       "        vertical-align: middle;\n",
       "    }\n",
       "\n",
       "    .dataframe tbody tr th {\n",
       "        vertical-align: top;\n",
       "    }\n",
       "\n",
       "    .dataframe thead th {\n",
       "        text-align: right;\n",
       "    }\n",
       "</style>\n",
       "<table border=\"1\" class=\"dataframe\">\n",
       "  <thead>\n",
       "    <tr style=\"text-align: right;\">\n",
       "      <th></th>\n",
       "      <th>Id</th>\n",
       "      <th>ProductId</th>\n",
       "      <th>UserId</th>\n",
       "      <th>ProfileName</th>\n",
       "      <th>HelpfulnessNumerator</th>\n",
       "      <th>HelpfulnessDenominator</th>\n",
       "      <th>Score</th>\n",
       "      <th>Time</th>\n",
       "      <th>Summary</th>\n",
       "      <th>Text</th>\n",
       "    </tr>\n",
       "  </thead>\n",
       "  <tbody>\n",
       "    <tr>\n",
       "      <th>29</th>\n",
       "      <td>30</td>\n",
       "      <td>B0001PB9FY</td>\n",
       "      <td>A3HDKO7OW0QNK4</td>\n",
       "      <td>Canadian Fan</td>\n",
       "      <td>1</td>\n",
       "      <td>1</td>\n",
       "      <td>5</td>\n",
       "      <td>1107820800</td>\n",
       "      <td>The Best Hot Sauce in the World</td>\n",
       "      <td>I don't know if it's the cactus or the tequila...</td>\n",
       "    </tr>\n",
       "    <tr>\n",
       "      <th>574</th>\n",
       "      <td>575</td>\n",
       "      <td>B000G6RYNE</td>\n",
       "      <td>A3PJZ8TU8FDQ1K</td>\n",
       "      <td>Jared Castle</td>\n",
       "      <td>2</td>\n",
       "      <td>2</td>\n",
       "      <td>5</td>\n",
       "      <td>1231718400</td>\n",
       "      <td>One bite and you'll become a \"chippoisseur\"</td>\n",
       "      <td>I'm addicted to salty and tangy flavors, so wh...</td>\n",
       "    </tr>\n",
       "    <tr>\n",
       "      <th>1973</th>\n",
       "      <td>1974</td>\n",
       "      <td>B0017165OG</td>\n",
       "      <td>A2EPNS38TTLZYN</td>\n",
       "      <td>tedebear</td>\n",
       "      <td>0</td>\n",
       "      <td>0</td>\n",
       "      <td>3</td>\n",
       "      <td>1312675200</td>\n",
       "      <td>Pok Chops</td>\n",
       "      <td>The pork chops from Omaha Steaks were very tas...</td>\n",
       "    </tr>\n",
       "    <tr>\n",
       "      <th>2309</th>\n",
       "      <td>2310</td>\n",
       "      <td>B0001VWE0M</td>\n",
       "      <td>AQM74O8Z4FMS0</td>\n",
       "      <td>Sunshine</td>\n",
       "      <td>0</td>\n",
       "      <td>0</td>\n",
       "      <td>2</td>\n",
       "      <td>1127606400</td>\n",
       "      <td>Below standard</td>\n",
       "      <td>Too much of the white pith on this orange peel...</td>\n",
       "    </tr>\n",
       "    <tr>\n",
       "      <th>2323</th>\n",
       "      <td>2324</td>\n",
       "      <td>B0001VWE0C</td>\n",
       "      <td>AQM74O8Z4FMS0</td>\n",
       "      <td>Sunshine</td>\n",
       "      <td>0</td>\n",
       "      <td>0</td>\n",
       "      <td>2</td>\n",
       "      <td>1127606400</td>\n",
       "      <td>Below standard</td>\n",
       "      <td>Too much of the white pith on this orange peel...</td>\n",
       "    </tr>\n",
       "    <tr>\n",
       "      <th>...</th>\n",
       "      <td>...</td>\n",
       "      <td>...</td>\n",
       "      <td>...</td>\n",
       "      <td>...</td>\n",
       "      <td>...</td>\n",
       "      <td>...</td>\n",
       "      <td>...</td>\n",
       "      <td>...</td>\n",
       "      <td>...</td>\n",
       "      <td>...</td>\n",
       "    </tr>\n",
       "    <tr>\n",
       "      <th>568409</th>\n",
       "      <td>568410</td>\n",
       "      <td>B0018CLWM4</td>\n",
       "      <td>A2PE0AGWV6OPL7</td>\n",
       "      <td>Dark Water Mermaid</td>\n",
       "      <td>3</td>\n",
       "      <td>3</td>\n",
       "      <td>5</td>\n",
       "      <td>1309651200</td>\n",
       "      <td>Quality &amp; affordable food</td>\n",
       "      <td>I was very pleased with the ingredient quality...</td>\n",
       "    </tr>\n",
       "    <tr>\n",
       "      <th>568410</th>\n",
       "      <td>568411</td>\n",
       "      <td>B0018CLWM4</td>\n",
       "      <td>A88HLWDCU57WG</td>\n",
       "      <td>R28</td>\n",
       "      <td>2</td>\n",
       "      <td>2</td>\n",
       "      <td>5</td>\n",
       "      <td>1332979200</td>\n",
       "      <td>litter box</td>\n",
       "      <td>My main reason for the five star review has to...</td>\n",
       "    </tr>\n",
       "    <tr>\n",
       "      <th>568411</th>\n",
       "      <td>568412</td>\n",
       "      <td>B0018CLWM4</td>\n",
       "      <td>AUX1HSY8FX55S</td>\n",
       "      <td>DAW</td>\n",
       "      <td>1</td>\n",
       "      <td>1</td>\n",
       "      <td>5</td>\n",
       "      <td>1319500800</td>\n",
       "      <td>Happy Camper</td>\n",
       "      <td>I bought this to try on two registered Maine C...</td>\n",
       "    </tr>\n",
       "    <tr>\n",
       "      <th>568412</th>\n",
       "      <td>568413</td>\n",
       "      <td>B0018CLWM4</td>\n",
       "      <td>AVZ2OZ479Q9E8</td>\n",
       "      <td>Ai Ling Chow</td>\n",
       "      <td>0</td>\n",
       "      <td>0</td>\n",
       "      <td>5</td>\n",
       "      <td>1336435200</td>\n",
       "      <td>Two Siberians like it!</td>\n",
       "      <td>When we brought home two 3-month-old purebred ...</td>\n",
       "    </tr>\n",
       "    <tr>\n",
       "      <th>568413</th>\n",
       "      <td>568414</td>\n",
       "      <td>B0018CLWM4</td>\n",
       "      <td>AI3Y26HLPYW4L</td>\n",
       "      <td>kimosabe</td>\n",
       "      <td>1</td>\n",
       "      <td>2</td>\n",
       "      <td>2</td>\n",
       "      <td>1330041600</td>\n",
       "      <td>premium edge cat food</td>\n",
       "      <td>My cats don't like it. what else can I say to ...</td>\n",
       "    </tr>\n",
       "  </tbody>\n",
       "</table>\n",
       "<p>174521 rows × 10 columns</p>\n",
       "</div>"
      ],
      "text/plain": [
       "            Id   ProductId          UserId         ProfileName  \\\n",
       "29          30  B0001PB9FY  A3HDKO7OW0QNK4        Canadian Fan   \n",
       "574        575  B000G6RYNE  A3PJZ8TU8FDQ1K        Jared Castle   \n",
       "1973      1974  B0017165OG  A2EPNS38TTLZYN            tedebear   \n",
       "2309      2310  B0001VWE0M   AQM74O8Z4FMS0            Sunshine   \n",
       "2323      2324  B0001VWE0C   AQM74O8Z4FMS0            Sunshine   \n",
       "...        ...         ...             ...                 ...   \n",
       "568409  568410  B0018CLWM4  A2PE0AGWV6OPL7  Dark Water Mermaid   \n",
       "568410  568411  B0018CLWM4   A88HLWDCU57WG                 R28   \n",
       "568411  568412  B0018CLWM4   AUX1HSY8FX55S                 DAW   \n",
       "568412  568413  B0018CLWM4   AVZ2OZ479Q9E8        Ai Ling Chow   \n",
       "568413  568414  B0018CLWM4   AI3Y26HLPYW4L            kimosabe   \n",
       "\n",
       "        HelpfulnessNumerator  HelpfulnessDenominator  Score        Time  \\\n",
       "29                         1                       1      5  1107820800   \n",
       "574                        2                       2      5  1231718400   \n",
       "1973                       0                       0      3  1312675200   \n",
       "2309                       0                       0      2  1127606400   \n",
       "2323                       0                       0      2  1127606400   \n",
       "...                      ...                     ...    ...         ...   \n",
       "568409                     3                       3      5  1309651200   \n",
       "568410                     2                       2      5  1332979200   \n",
       "568411                     1                       1      5  1319500800   \n",
       "568412                     0                       0      5  1336435200   \n",
       "568413                     1                       2      2  1330041600   \n",
       "\n",
       "                                            Summary  \\\n",
       "29                  The Best Hot Sauce in the World   \n",
       "574     One bite and you'll become a \"chippoisseur\"   \n",
       "1973                                      Pok Chops   \n",
       "2309                                 Below standard   \n",
       "2323                                 Below standard   \n",
       "...                                             ...   \n",
       "568409                    Quality & affordable food   \n",
       "568410                                   litter box   \n",
       "568411                                 Happy Camper   \n",
       "568412                       Two Siberians like it!   \n",
       "568413                        premium edge cat food   \n",
       "\n",
       "                                                     Text  \n",
       "29      I don't know if it's the cactus or the tequila...  \n",
       "574     I'm addicted to salty and tangy flavors, so wh...  \n",
       "1973    The pork chops from Omaha Steaks were very tas...  \n",
       "2309    Too much of the white pith on this orange peel...  \n",
       "2323    Too much of the white pith on this orange peel...  \n",
       "...                                                   ...  \n",
       "568409  I was very pleased with the ingredient quality...  \n",
       "568410  My main reason for the five star review has to...  \n",
       "568411  I bought this to try on two registered Maine C...  \n",
       "568412  When we brought home two 3-month-old purebred ...  \n",
       "568413  My cats don't like it. what else can I say to ...  \n",
       "\n",
       "[174521 rows x 10 columns]"
      ]
     },
     "execution_count": 6,
     "metadata": {},
     "output_type": "execute_result"
    }
   ],
   "source": [
    "# ['UserId', 'ProfileName','Time', 'Text']\n",
    "df_valid[df_valid.duplicated(['UserId', 'ProfileName','Time', 'Text'])]"
   ]
  },
  {
   "cell_type": "code",
   "execution_count": 7,
   "id": "845a7fd6-d5ed-4e88-a989-3567c8d0b769",
   "metadata": {},
   "outputs": [
    {
     "data": {
      "text/plain": [
       "(393931, 10)"
      ]
     },
     "execution_count": 7,
     "metadata": {},
     "output_type": "execute_result"
    }
   ],
   "source": [
    "data = df_valid.drop_duplicates(subset=['UserId', 'ProfileName','Time', 'Text'])\n",
    "data.shape"
   ]
  },
  {
   "cell_type": "code",
   "execution_count": null,
   "id": "63817b28-040b-439f-b9dd-777e4c0a7773",
   "metadata": {},
   "outputs": [],
   "source": [
    "data.dtypes"
   ]
  },
  {
   "cell_type": "code",
   "execution_count": null,
   "id": "755ba176-7151-4dc9-a6fd-75c1b2abfe36",
   "metadata": {},
   "outputs": [],
   "source": [
    "data['Time']"
   ]
  },
  {
   "cell_type": "code",
   "execution_count": null,
   "id": "032018c3-77c2-434b-9f12-4bb25b3d7fa4",
   "metadata": {},
   "outputs": [],
   "source": [
    "pd.to_datetime(data['Time'], unit='s')"
   ]
  },
  {
   "cell_type": "code",
   "execution_count": 8,
   "id": "4585a0e4-42ae-4a16-9217-eb9dff2f0033",
   "metadata": {},
   "outputs": [
    {
     "name": "stderr",
     "output_type": "stream",
     "text": [
      "/tmp/ipykernel_24725/145857406.py:1: SettingWithCopyWarning: \n",
      "A value is trying to be set on a copy of a slice from a DataFrame.\n",
      "Try using .loc[row_indexer,col_indexer] = value instead\n",
      "\n",
      "See the caveats in the documentation: https://pandas.pydata.org/pandas-docs/stable/user_guide/indexing.html#returning-a-view-versus-a-copy\n",
      "  data['Time'] = pd.to_datetime(data['Time'], unit='s')\n"
     ]
    }
   ],
   "source": [
    "data['Time'] = pd.to_datetime(data['Time'], unit='s')"
   ]
  },
  {
   "cell_type": "code",
   "execution_count": null,
   "id": "8787c260-2fcb-4ccc-831a-4e1eb5306d00",
   "metadata": {},
   "outputs": [],
   "source": [
    "import warnings\n",
    "from warnings import filterwarnings\n",
    "filterwarnings('ignore')"
   ]
  },
  {
   "cell_type": "code",
   "execution_count": null,
   "id": "1cb5eed1-8fe2-49e6-8682-74428e6fbfd8",
   "metadata": {},
   "outputs": [],
   "source": [
    "data.dtypes"
   ]
  },
  {
   "cell_type": "code",
   "execution_count": null,
   "id": "a4a3889a-c9bc-4007-9e30-7fb6dfa3abea",
   "metadata": {},
   "outputs": [],
   "source": [
    "data.head(3)"
   ]
  },
  {
   "cell_type": "markdown",
   "id": "7c2eeb41-3d1f-4d7f-9f0a-74e7f2bca902",
   "metadata": {
    "jp-MarkdownHeadingCollapsed": true
   },
   "source": [
    "# 30 - How Amazon recommend product"
   ]
  },
  {
   "cell_type": "code",
   "execution_count": null,
   "id": "e82abe89-db91-4546-a888-2c002890b92e",
   "metadata": {},
   "outputs": [],
   "source": [
    "data.columns"
   ]
  },
  {
   "cell_type": "code",
   "execution_count": null,
   "id": "f77ceaf3-cb3f-49c6-a18f-f84ea33871f9",
   "metadata": {},
   "outputs": [],
   "source": [
    "data['ProfileName'].unique()"
   ]
  },
  {
   "cell_type": "code",
   "execution_count": null,
   "id": "11600fe1-dc04-4038-b8b3-7e3deae9f2e5",
   "metadata": {},
   "outputs": [],
   "source": [
    "data['ProfileName'].nunique()"
   ]
  },
  {
   "cell_type": "code",
   "execution_count": null,
   "id": "55124ea4-8cc1-430a-b48a-a5c7cef764d8",
   "metadata": {},
   "outputs": [],
   "source": [
    "data['UserId'].nunique()"
   ]
  },
  {
   "cell_type": "code",
   "execution_count": null,
   "id": "0456f1ad-ffbe-4eb3-b17b-41a953af7010",
   "metadata": {},
   "outputs": [],
   "source": [
    "recommend_df = data.groupby(['UserId']).agg({'Summary':'count', 'Text':'count', 'Score':'mean', 'ProductId':'count'}).sort_values(by='ProductId', ascending=False)"
   ]
  },
  {
   "cell_type": "code",
   "execution_count": null,
   "id": "c02e7542-575c-4fac-b559-f36dd2dc3047",
   "metadata": {},
   "outputs": [],
   "source": [
    "recommend_df.head(3)"
   ]
  },
  {
   "cell_type": "code",
   "execution_count": null,
   "id": "3eac22d0-e365-43e4-96c7-9e175bc49193",
   "metadata": {},
   "outputs": [],
   "source": [
    "recommend_df.columns = ['Number_of_summary','num_text','avg_score','no_of_prds_purcharse']"
   ]
  },
  {
   "cell_type": "code",
   "execution_count": null,
   "id": "71ac23b2-dfcc-447e-8d73-85ef5509be06",
   "metadata": {},
   "outputs": [],
   "source": [
    "recommend_df.head(3)"
   ]
  },
  {
   "cell_type": "code",
   "execution_count": null,
   "id": "88ba9397-b50e-4d8e-b6af-a32d12ef2d9b",
   "metadata": {},
   "outputs": [],
   "source": [
    "recommend_df.index[0:10]"
   ]
  },
  {
   "cell_type": "code",
   "execution_count": null,
   "id": "89639826-2045-49c5-99b7-e1c3542d7664",
   "metadata": {},
   "outputs": [],
   "source": [
    "recommend_df['no_of_prds_purcharse'][0:10].values"
   ]
  },
  {
   "cell_type": "code",
   "execution_count": null,
   "id": "7c843a09-4288-4cea-a328-95b3febcb37f",
   "metadata": {},
   "outputs": [],
   "source": [
    "plt.bar(recommend_df.index[0:10], recommend_df['no_of_prds_purcharse'][0:10].values)"
   ]
  },
  {
   "cell_type": "code",
   "execution_count": null,
   "id": "eef73595-71af-4e56-a0ce-351cef3510ea",
   "metadata": {},
   "outputs": [],
   "source": [
    "plt.bar(recommend_df.index[0:10], recommend_df['no_of_prds_purcharse'][0:10].values)\n",
    "plt.xticks(rotation='vertical')"
   ]
  },
  {
   "cell_type": "markdown",
   "id": "b86cfa1c-d424-4beb-9a3c-7a81702d3df8",
   "metadata": {
    "jp-MarkdownHeadingCollapsed": true
   },
   "source": [
    "# 31 - Analysing which product has good number of Reviews"
   ]
  },
  {
   "cell_type": "code",
   "execution_count": null,
   "id": "b81944f9-254b-47bc-83f3-57226d494564",
   "metadata": {},
   "outputs": [],
   "source": [
    "data.columns"
   ]
  },
  {
   "cell_type": "code",
   "execution_count": null,
   "id": "9b818105-8051-4c8a-bd61-b363d6c3fd3a",
   "metadata": {},
   "outputs": [],
   "source": [
    "len(data['ProductId'].unique())"
   ]
  },
  {
   "cell_type": "code",
   "execution_count": null,
   "id": "8ea23b9d-061a-4018-a17d-cf8829f8d191",
   "metadata": {},
   "outputs": [],
   "source": [
    "data['ProductId'].nunique()"
   ]
  },
  {
   "cell_type": "code",
   "execution_count": null,
   "id": "674591a5-aaed-4bcc-a623-21aec137c9d3",
   "metadata": {},
   "outputs": [],
   "source": [
    "type(data['ProductId'].value_counts())"
   ]
  },
  {
   "cell_type": "code",
   "execution_count": null,
   "id": "03efc288-d203-4e59-a9c7-04ce35fd0b61",
   "metadata": {},
   "outputs": [],
   "source": [
    "data['ProductId'].value_counts()"
   ]
  },
  {
   "cell_type": "code",
   "execution_count": null,
   "id": "6d7cc2ba-2795-41e5-8e74-724b62bc43dd",
   "metadata": {},
   "outputs": [],
   "source": [
    "prd_count = data['ProductId'].value_counts().to_frame()"
   ]
  },
  {
   "cell_type": "code",
   "execution_count": null,
   "id": "dc6f51e5-6f14-4bd7-a1f7-cecb19dd309c",
   "metadata": {},
   "outputs": [],
   "source": [
    "prd_count.index"
   ]
  },
  {
   "cell_type": "code",
   "execution_count": null,
   "id": "9a64aa63-60e5-4b3e-b152-97e0b3f37187",
   "metadata": {},
   "outputs": [],
   "source": [
    "frequent_prd_ids = prd_count[prd_count['count']>500].index"
   ]
  },
  {
   "cell_type": "code",
   "execution_count": null,
   "id": "85949c58-d82e-4ecf-8f96-8cdd0254c872",
   "metadata": {},
   "outputs": [],
   "source": [
    "data['ProductId'].isin(frequent_prd_ids)"
   ]
  },
  {
   "cell_type": "code",
   "execution_count": null,
   "id": "43841924-f472-43db-91dc-9b4227d7cc2a",
   "metadata": {},
   "outputs": [],
   "source": [
    "fre_prd_df = data[data['ProductId'].isin(frequent_prd_ids)]\n",
    "fre_prd_df"
   ]
  },
  {
   "cell_type": "code",
   "execution_count": null,
   "id": "3588c2d0-cc79-428b-bb57-820d6a1ed24c",
   "metadata": {},
   "outputs": [],
   "source": [
    "fre_prd_df.columns"
   ]
  },
  {
   "cell_type": "code",
   "execution_count": null,
   "id": "4436beb3-9e37-4e44-ae8f-d14bac937cf0",
   "metadata": {},
   "outputs": [],
   "source": [
    "sns.countplot(y='ProductId', data = fre_prd_df, hue='Score')"
   ]
  },
  {
   "cell_type": "markdown",
   "id": "51e21d2a-d1eb-4a9a-bd53-6234a5cae254",
   "metadata": {
    "jp-MarkdownHeadingCollapsed": true
   },
   "source": [
    "# 32 - Understanding Behaviours of Amazon Users"
   ]
  },
  {
   "cell_type": "code",
   "execution_count": null,
   "id": "ff0b6b0a-213d-454c-8736-64039fdbaa07",
   "metadata": {},
   "outputs": [],
   "source": [
    "data.columns"
   ]
  },
  {
   "cell_type": "code",
   "execution_count": null,
   "id": "c183c6ae-82cf-4703-b0b7-ca0a1da6951c",
   "metadata": {},
   "outputs": [],
   "source": [
    "x = data['UserId'].value_counts()\n",
    "x"
   ]
  },
  {
   "cell_type": "code",
   "execution_count": null,
   "id": "e732b409-6148-4422-8a54-558abcb589fe",
   "metadata": {},
   "outputs": [],
   "source": [
    "type(x)"
   ]
  },
  {
   "cell_type": "code",
   "execution_count": null,
   "id": "8e84af8d-2938-474f-a43e-776597e04de0",
   "metadata": {},
   "outputs": [],
   "source": [
    "data['viewer_type'] = data['UserId'].apply(lambda user: \"Frequent\" if x[user]>50 else \"Not frequent\")"
   ]
  },
  {
   "cell_type": "code",
   "execution_count": null,
   "id": "cc466b31-6c8d-4d23-aedb-120e8a356b17",
   "metadata": {},
   "outputs": [],
   "source": [
    "data.head(2)"
   ]
  },
  {
   "cell_type": "code",
   "execution_count": null,
   "id": "b11fabbc-552f-4565-9cce-e3dc8e66dc63",
   "metadata": {},
   "outputs": [],
   "source": [
    "data['viewer_type'].unique()"
   ]
  },
  {
   "cell_type": "code",
   "execution_count": null,
   "id": "466d50f2-2fa6-4912-9e01-eccaa1a3fc64",
   "metadata": {},
   "outputs": [],
   "source": [
    "not_frequent_df = data[data['viewer_type']=='Not frequent']\n",
    "frequent_df = data[data['viewer_type']=='Frequent']"
   ]
  },
  {
   "cell_type": "code",
   "execution_count": null,
   "id": "6f3e1c53-d68a-40f5-b1f2-cc3361893869",
   "metadata": {},
   "outputs": [],
   "source": [
    "frequent_df['Score'].value_counts().plot(kind='bar')"
   ]
  },
  {
   "cell_type": "code",
   "execution_count": null,
   "id": "48cfd556-94e7-4a7e-bc0c-b12933da8420",
   "metadata": {},
   "outputs": [],
   "source": [
    "frequent_df['Score'].value_counts()/len(frequent_df)*100"
   ]
  },
  {
   "cell_type": "code",
   "execution_count": null,
   "id": "2a6d982a-4a3c-4b16-b160-b74d19887057",
   "metadata": {},
   "outputs": [],
   "source": [
    "not_frequent_df['Score'].value_counts()/len(not_frequent_df)*100"
   ]
  },
  {
   "cell_type": "markdown",
   "id": "a32b8149-602f-4388-a1c7-0f2adaf1cce8",
   "metadata": {},
   "source": [
    "# 33 - Analysing your frequent Users"
   ]
  },
  {
   "cell_type": "code",
   "execution_count": null,
   "id": "a4af6e79-e86b-4936-8498-26b77519fb29",
   "metadata": {},
   "outputs": [],
   "source": [
    "data.columns"
   ]
  },
  {
   "cell_type": "code",
   "execution_count": null,
   "id": "51456ef3-e45d-42cc-a798-1f0d7f01642f",
   "metadata": {},
   "outputs": [],
   "source": [
    "def calculate_length(text):\n",
    "    return len(text.split(' '))"
   ]
  },
  {
   "cell_type": "code",
   "execution_count": null,
   "id": "27bad9cd-3dc3-4759-82ce-ad44a4fb79b2",
   "metadata": {},
   "outputs": [],
   "source": [
    "frequent_df['Text_length'] = data['Text'].apply(calculate_length)"
   ]
  },
  {
   "cell_type": "code",
   "execution_count": null,
   "id": "43cace18-f792-49c6-b1e3-f08edb41233e",
   "metadata": {},
   "outputs": [],
   "source": [
    "not_frequent_df = data[data['viewer_type']=='Not frequent']\n",
    "frequent_df = data[data['viewer_type']=='Frequent']"
   ]
  },
  {
   "cell_type": "code",
   "execution_count": null,
   "id": "e2d71736-6715-4dab-b46f-70a39a853ef7",
   "metadata": {},
   "outputs": [],
   "source": [
    "fig = plt.figure()\n",
    "ax1 = fig.add_subplot(121)\n",
    "ax1.boxplot(frequent_df['Text_length'])\n",
    "ax1.set_xlabel('Freq of freq ')\n",
    "\n",
    "ax2 = fig.add_subplot(122)\n",
    "ax2.boxplot(not_frequent_df['Text_length'])"
   ]
  },
  {
   "cell_type": "markdown",
   "id": "094579b6-b6f0-49de-b974-709d290b3c24",
   "metadata": {},
   "source": [
    "# 34 - Perform Sentiment Analysis on Data"
   ]
  },
  {
   "cell_type": "code",
   "execution_count": 9,
   "id": "d2f445da-8554-4ff0-84c0-6d58b76319b6",
   "metadata": {},
   "outputs": [],
   "source": [
    "from textblob import TextBlob"
   ]
  },
  {
   "cell_type": "code",
   "execution_count": 10,
   "id": "e074d79d-0672-47bc-b44f-de0dca244284",
   "metadata": {},
   "outputs": [
    {
     "data": {
      "text/plain": [
       "0.7"
      ]
     },
     "execution_count": 10,
     "metadata": {},
     "output_type": "execute_result"
    }
   ],
   "source": [
    "TextBlob('Good quality').sentiment.polarity"
   ]
  },
  {
   "cell_type": "code",
   "execution_count": 13,
   "id": "2b937d8b-6585-4c01-9d87-cde8c23591fe",
   "metadata": {},
   "outputs": [],
   "source": [
    "sample = data[0:50000]"
   ]
  },
  {
   "cell_type": "code",
   "execution_count": 14,
   "id": "bdece9d1-52cd-41e0-9741-b5aca9438f41",
   "metadata": {},
   "outputs": [],
   "source": [
    "polarity = []\n",
    "for text in sample['Summary']:\n",
    "    try:\n",
    "        polarity.append(TextBlob(text).sentiment.polarity)\n",
    "    except:\n",
    "        polarity.append(0)"
   ]
  },
  {
   "cell_type": "code",
   "execution_count": 15,
   "id": "9ddf2543-3a39-4dda-a372-887e5e6f59ac",
   "metadata": {},
   "outputs": [
    {
     "name": "stderr",
     "output_type": "stream",
     "text": [
      "/tmp/ipykernel_24725/4182253960.py:1: SettingWithCopyWarning: \n",
      "A value is trying to be set on a copy of a slice from a DataFrame.\n",
      "Try using .loc[row_indexer,col_indexer] = value instead\n",
      "\n",
      "See the caveats in the documentation: https://pandas.pydata.org/pandas-docs/stable/user_guide/indexing.html#returning-a-view-versus-a-copy\n",
      "  sample['polarity'] = polarity\n"
     ]
    }
   ],
   "source": [
    "sample['polarity'] = polarity"
   ]
  },
  {
   "cell_type": "code",
   "execution_count": 16,
   "id": "aa39a6ea-e08a-4df5-928c-9ea76d0b0902",
   "metadata": {},
   "outputs": [
    {
     "data": {
      "text/html": [
       "<div>\n",
       "<style scoped>\n",
       "    .dataframe tbody tr th:only-of-type {\n",
       "        vertical-align: middle;\n",
       "    }\n",
       "\n",
       "    .dataframe tbody tr th {\n",
       "        vertical-align: top;\n",
       "    }\n",
       "\n",
       "    .dataframe thead th {\n",
       "        text-align: right;\n",
       "    }\n",
       "</style>\n",
       "<table border=\"1\" class=\"dataframe\">\n",
       "  <thead>\n",
       "    <tr style=\"text-align: right;\">\n",
       "      <th></th>\n",
       "      <th>Id</th>\n",
       "      <th>ProductId</th>\n",
       "      <th>UserId</th>\n",
       "      <th>ProfileName</th>\n",
       "      <th>HelpfulnessNumerator</th>\n",
       "      <th>HelpfulnessDenominator</th>\n",
       "      <th>Score</th>\n",
       "      <th>Time</th>\n",
       "      <th>Summary</th>\n",
       "      <th>Text</th>\n",
       "      <th>polarity</th>\n",
       "    </tr>\n",
       "  </thead>\n",
       "  <tbody>\n",
       "    <tr>\n",
       "      <th>0</th>\n",
       "      <td>1</td>\n",
       "      <td>B001E4KFG0</td>\n",
       "      <td>A3SGXH7AUHU8GW</td>\n",
       "      <td>delmartian</td>\n",
       "      <td>1</td>\n",
       "      <td>1</td>\n",
       "      <td>5</td>\n",
       "      <td>2011-04-27</td>\n",
       "      <td>Good Quality Dog Food</td>\n",
       "      <td>I have bought several of the Vitality canned d...</td>\n",
       "      <td>0.7</td>\n",
       "    </tr>\n",
       "    <tr>\n",
       "      <th>1</th>\n",
       "      <td>2</td>\n",
       "      <td>B00813GRG4</td>\n",
       "      <td>A1D87F6ZCVE5NK</td>\n",
       "      <td>dll pa</td>\n",
       "      <td>0</td>\n",
       "      <td>0</td>\n",
       "      <td>1</td>\n",
       "      <td>2012-09-07</td>\n",
       "      <td>Not as Advertised</td>\n",
       "      <td>Product arrived labeled as Jumbo Salted Peanut...</td>\n",
       "      <td>0.0</td>\n",
       "    </tr>\n",
       "    <tr>\n",
       "      <th>2</th>\n",
       "      <td>3</td>\n",
       "      <td>B000LQOCH0</td>\n",
       "      <td>ABXLMWJIXXAIN</td>\n",
       "      <td>Natalia Corres \"Natalia Corres\"</td>\n",
       "      <td>1</td>\n",
       "      <td>1</td>\n",
       "      <td>4</td>\n",
       "      <td>2008-08-18</td>\n",
       "      <td>\"Delight\" says it all</td>\n",
       "      <td>This is a confection that has been around a fe...</td>\n",
       "      <td>0.0</td>\n",
       "    </tr>\n",
       "  </tbody>\n",
       "</table>\n",
       "</div>"
      ],
      "text/plain": [
       "   Id   ProductId          UserId                      ProfileName  \\\n",
       "0   1  B001E4KFG0  A3SGXH7AUHU8GW                       delmartian   \n",
       "1   2  B00813GRG4  A1D87F6ZCVE5NK                           dll pa   \n",
       "2   3  B000LQOCH0   ABXLMWJIXXAIN  Natalia Corres \"Natalia Corres\"   \n",
       "\n",
       "   HelpfulnessNumerator  HelpfulnessDenominator  Score       Time  \\\n",
       "0                     1                       1      5 2011-04-27   \n",
       "1                     0                       0      1 2012-09-07   \n",
       "2                     1                       1      4 2008-08-18   \n",
       "\n",
       "                 Summary                                               Text  \\\n",
       "0  Good Quality Dog Food  I have bought several of the Vitality canned d...   \n",
       "1      Not as Advertised  Product arrived labeled as Jumbo Salted Peanut...   \n",
       "2  \"Delight\" says it all  This is a confection that has been around a fe...   \n",
       "\n",
       "   polarity  \n",
       "0       0.7  \n",
       "1       0.0  \n",
       "2       0.0  "
      ]
     },
     "execution_count": 16,
     "metadata": {},
     "output_type": "execute_result"
    }
   ],
   "source": [
    "sample.head(3)"
   ]
  },
  {
   "cell_type": "code",
   "execution_count": 17,
   "id": "8b68994e-3e53-44f7-a042-73ac004e0681",
   "metadata": {},
   "outputs": [],
   "source": [
    "sample_negative = sample[sample['polarity']<0]\n",
    "sample_positive= sample[sample['polarity']>0]"
   ]
  },
  {
   "cell_type": "code",
   "execution_count": 18,
   "id": "4c6f4e8f-18a0-4d87-8735-92aece6d9bb6",
   "metadata": {},
   "outputs": [],
   "source": [
    "from collections import Counter"
   ]
  },
  {
   "cell_type": "code",
   "execution_count": 19,
   "id": "33369e86-f423-4688-a2e6-5a454936a2ee",
   "metadata": {},
   "outputs": [
    {
     "data": {
      "text/plain": [
       "[('Disappointed', 44),\n",
       " ('Disappointing', 32),\n",
       " ('Bland', 18),\n",
       " ('Awful', 17),\n",
       " ('Not what I expected', 17),\n",
       " ('Terrible', 15),\n",
       " ('Horrible', 15),\n",
       " ('disappointed', 15),\n",
       " ('Disgusting', 12),\n",
       " ('not good', 11)]"
      ]
     },
     "execution_count": 19,
     "metadata": {},
     "output_type": "execute_result"
    }
   ],
   "source": [
    "Counter(sample_negative['Summary']).most_common(10)"
   ]
  },
  {
   "cell_type": "code",
   "execution_count": 20,
   "id": "93b7082c-e1ee-487c-9c9c-eb9a90b44766",
   "metadata": {},
   "outputs": [
    {
     "data": {
      "text/plain": [
       "[('Delicious!', 208),\n",
       " ('Delicious', 204),\n",
       " ('Great product', 100),\n",
       " ('Excellent', 85),\n",
       " ('Love it!', 81),\n",
       " ('Great', 81),\n",
       " ('Great Product', 77),\n",
       " ('Great!', 70),\n",
       " ('Good stuff', 51),\n",
       " ('Awesome', 50)]"
      ]
     },
     "execution_count": 20,
     "metadata": {},
     "output_type": "execute_result"
    }
   ],
   "source": [
    "Counter(sample_positive['Summary']).most_common(10)"
   ]
  }
 ],
 "metadata": {
  "kernelspec": {
   "display_name": "Python 3 (ipykernel)",
   "language": "python",
   "name": "python3"
  },
  "language_info": {
   "codemirror_mode": {
    "name": "ipython",
    "version": 3
   },
   "file_extension": ".py",
   "mimetype": "text/x-python",
   "name": "python",
   "nbconvert_exporter": "python",
   "pygments_lexer": "ipython3",
   "version": "3.13.2"
  }
 },
 "nbformat": 4,
 "nbformat_minor": 5
}
